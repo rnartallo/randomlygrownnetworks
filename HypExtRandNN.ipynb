{
 "cells": [
  {
   "cell_type": "markdown",
   "metadata": {},
   "source": [
    "# Hyper-graphical extensions of randomly grown neural networks #"
   ]
  },
  {
   "cell_type": "markdown",
   "metadata": {},
   "source": [
    "_Ramón Nartallo-Kaluarachchi; MAJ5 Structures of Complex Systems; 2021-2022_"
   ]
  },
  {
   "cell_type": "markdown",
   "metadata": {},
   "source": [
    "### 1. Introduction ###"
   ]
  },
  {
   "cell_type": "markdown",
   "metadata": {},
   "source": [
    "Within both machine learning and computational neuroscience, there is a sub field focused on building biologically motivated artificial neural networks that mimic the function of the human brain. However, even these networks typically neglect network topology and structure as a important biological feature, often opting for random or arbitrary connectivity. An interesting approach to the problem of \n",
    "producing biologically motivated and plausible connectivity in networks is emulating the dynamics of biological neural growth.\n",
    "\n",
    "In the model discussed here, neurons are modelled as rooted binary trees governed by a branching process. The branching rate in this state-of-the-art model is assumed to be 'a monotonically decreasing function of time'. In this project, the model used was presented by Ajazi et al. [2]. It is a simplification of the NETMORPH model that assumes a constant branching rate for all times [1]. The model is also restricted to 2D."
   ]
  },
  {
   "cell_type": "markdown",
   "metadata": {},
   "source": [
    "This Jupyter notebook and the associated Python files allow for the simulation of the models discussed both here and in the report. The notebook, report and Python scripts are available at https://github.com/rnartallo/randomlygrownnetworks. The code is written in Python3.  "
   ]
  },
  {
   "cell_type": "markdown",
   "metadata": {},
   "source": [
    "### 2. A model of a single neuron ###"
   ]
  },
  {
   "cell_type": "code",
   "execution_count": null,
   "metadata": {},
   "outputs": [],
   "source": []
  }
 ],
 "metadata": {
  "kernelspec": {
   "display_name": "Python 3",
   "language": "python",
   "name": "python3"
  },
  "language_info": {
   "codemirror_mode": {
    "name": "ipython",
    "version": 3
   },
   "file_extension": ".py",
   "mimetype": "text/x-python",
   "name": "python",
   "nbconvert_exporter": "python",
   "pygments_lexer": "ipython3",
   "version": "3.7.6"
  }
 },
 "nbformat": 4,
 "nbformat_minor": 4
}
